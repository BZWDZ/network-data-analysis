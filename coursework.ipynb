{
 "cells": [
  {
   "cell_type": "code",
   "execution_count": 18,
   "id": "19d1376c-d326-4281-9c16-6cad972f419e",
   "metadata": {},
   "outputs": [],
   "source": [
    "import os\n",
    "import pandas as pd\n",
    "import networkx as nx\n",
    "import matplotlib.pyplot as plt\n",
    "import collections\n",
    "from itertools import combinations"
   ]
  },
  {
   "cell_type": "markdown",
   "id": "e618ee98-24df-4bba-921a-b341a27b617a",
   "metadata": {},
   "source": [
    "# Tasks in Part 1"
   ]
  },
  {
   "cell_type": "markdown",
   "id": "3cf1838c-4ddb-461f-aab0-6b07246d3f10",
   "metadata": {},
   "source": [
    "select dataset"
   ]
  },
  {
   "cell_type": "code",
   "execution_count": 6,
   "id": "e9bc4126-26ea-4914-923f-179b1a8b0e68",
   "metadata": {},
   "outputs": [],
   "source": [
    "def get_file_size(filepath):\n",
    "    return os.path.getsize(filepath)"
   ]
  },
  {
   "cell_type": "code",
   "execution_count": 7,
   "id": "f5e210ef-63d5-4f6d-8a80-879c58937663",
   "metadata": {},
   "outputs": [],
   "source": [
    "def select_networks(directory):\n",
    "    \"\"\"\n",
    "    Select 3 networks based on file size\n",
    "    \"\"\"\n",
    "    # Filter CSV files\n",
    "    csv_files = [os.path.join(directory, f) for f in os.listdir(directory) if f.endswith('.csv')]\n",
    "    \n",
    "    #  Sort by file size\n",
    "    sorted_files = sorted(csv_files, key=get_file_size)\n",
    "    # Select small, medium, large networks (first, middle, last)\n",
    "    selected_networks = [\n",
    "        sorted_files[0],  # Smallest network\n",
    "        sorted_files[len(sorted_files)//2],  # Medium network\n",
    "        sorted_files[-1]  # Largest network\n",
    "    ]\n",
    "    \n",
    "    return selected_networks\n"
   ]
  },
  {
   "cell_type": "code",
   "execution_count": 8,
   "id": "a20b3aee-9dda-406a-959c-b086caa528a1",
   "metadata": {},
   "outputs": [
    {
     "name": "stdout",
     "output_type": "stream",
     "text": [
      "Selected network datasets:\n",
      "BOT_REQUESTS.csv\n",
      "ITEMS.csv\n",
      "REQUEST_FOR_DELETION.csv\n"
     ]
    }
   ],
   "source": [
    "dataset_dir = '/Users/wangfeifei/Desktop/network_data/datasets'\n",
    "selected_networks = select_networks(dataset_dir)\n",
    "print(\"Selected network datasets:\")\n",
    "for network in selected_networks:\n",
    "    print(os.path.basename(network))"
   ]
  },
  {
   "cell_type": "markdown",
   "id": "1facf8a2-ba3f-4337-9d8a-ca5eaa47f05c",
   "metadata": {},
   "source": [
    "## Task A (network construction):"
   ]
  },
  {
   "cell_type": "code",
   "execution_count": 17,
   "id": "a5a2adbf-f0c0-4a88-b53f-f00e5c4d197c",
   "metadata": {},
   "outputs": [
    {
     "name": "stdout",
     "output_type": "stream",
     "text": [
      "正在构建 small 网络...\n",
      "small网构建完成：节点数=527, 边数=2425\n",
      "\n",
      "正在构建 medium 网络...\n",
      "medium网构建完成：节点数=3539, 边数=7252\n",
      "\n",
      "正在构建 large 网络...\n",
      "large网构建完成：节点数=9887, 边数=33488\n",
      "\n"
     ]
    }
   ],
   "source": [
    "\n",
    "def build_network(filepath):\n",
    "    \"\"\"根据给定文件构建编辑网络\"\"\"\n",
    "    df = pd.read_csv(filepath)\n",
    "    G = nx.Graph()\n",
    "    \n",
    "    # 为每个page-thread组合生成边\n",
    "    grouped = df.groupby(['page_name', 'thread_subject'])\n",
    "    edges = set()\n",
    "    \n",
    "    for (page, thread), group in grouped:\n",
    "        users = list(group['username'].unique())\n",
    "        # 生成用户间的两两连接\n",
    "        for u1, u2 in combinations(users, 2):\n",
    "            if u1 != u2:\n",
    "                edge = tuple(sorted((u1, u2)))  # 避免重复边\n",
    "                edges.add(edge)\n",
    "    \n",
    "    # 添加带权重的边\n",
    "    edge_counts = {}\n",
    "    for edge in edges:\n",
    "        edge_counts[edge] = edge_counts.get(edge, 0) + 1\n",
    "    \n",
    "    G.add_weighted_edges_from([(u, v, w) for (u, v), w in edge_counts.items()])\n",
    "    return G\n",
    "\n",
    "files = {\n",
    "    \"small\": \"/Users/wangfeifei/Desktop/network_data/datasets/BOT_REQUESTS.csv\",\n",
    "    \"medium\": \"/Users/wangfeifei/Desktop/network_data/datasets/ITEMS.csv\", \n",
    "    \"large\": \"/Users/wangfeifei/Desktop/network_data/datasets/REQUEST_FOR_DELETION.csv\"\n",
    "}\n",
    "\n",
    "# 构建三个网络\n",
    "networks = {}\n",
    "for size, path in files.items():\n",
    "    print(f\"正在构建 {size} 网络...\")\n",
    "    networks[size] = build_network(path)\n",
    "    print(f\"{size}网构建完成：节点数={networks[size].number_of_nodes()}, 边数={networks[size].number_of_edges()}\\n\")\n"
   ]
  },
  {
   "cell_type": "code",
   "execution_count": null,
   "id": "354b6a12-a9bd-47e7-b9b7-f59c69c5a363",
   "metadata": {},
   "outputs": [],
   "source": []
  },
  {
   "cell_type": "code",
   "execution_count": null,
   "id": "b32f84fd-4e03-458b-9c92-583e42e50cd1",
   "metadata": {},
   "outputs": [],
   "source": []
  },
  {
   "cell_type": "markdown",
   "id": "337efec3-f892-4aab-8a04-d59caa52d839",
   "metadata": {},
   "source": [
    "## Task B (network metrics)："
   ]
  },
  {
   "cell_type": "markdown",
   "id": "2d077960-1a64-4de0-a9df-8da013c740ac",
   "metadata": {},
   "source": [
    "## Task C (epidemic models):"
   ]
  },
  {
   "cell_type": "markdown",
   "id": "9c7876b0-9927-490d-a3aa-033f6fc2bc18",
   "metadata": {},
   "source": [
    "## Task D (comparing networks and social issues):"
   ]
  },
  {
   "cell_type": "markdown",
   "id": "e6ee732b-f535-4261-abca-d8fe7d625b6a",
   "metadata": {},
   "source": [
    "# Tasks in Part 2"
   ]
  },
  {
   "cell_type": "markdown",
   "id": "0174ea35-d026-4b7c-badb-f1d61c92e193",
   "metadata": {},
   "source": [
    "## Task A (spatial networks and planarity):"
   ]
  },
  {
   "cell_type": "markdown",
   "id": "02cb7e32-8146-4253-b7fa-66cda2748bb6",
   "metadata": {},
   "source": [
    "## Task B (road accidents):"
   ]
  },
  {
   "cell_type": "markdown",
   "id": "d4160cb7-42d9-497f-abfc-d9b621982244",
   "metadata": {},
   "source": [
    "## Task C (Voronoi diagrams):"
   ]
  },
  {
   "cell_type": "markdown",
   "id": "a1106812-9a39-426e-b272-7daa8fddd796",
   "metadata": {},
   "source": [
    "## Task D (TransE, PROV, PageRank):"
   ]
  },
  {
   "cell_type": "code",
   "execution_count": null,
   "id": "11890b5e-b649-4f2f-935f-e9218522f13f",
   "metadata": {},
   "outputs": [],
   "source": []
  }
 ],
 "metadata": {
  "kernelspec": {
   "display_name": "Python 3 (ipykernel)",
   "language": "python",
   "name": "python3"
  },
  "language_info": {
   "codemirror_mode": {
    "name": "ipython",
    "version": 3
   },
   "file_extension": ".py",
   "mimetype": "text/x-python",
   "name": "python",
   "nbconvert_exporter": "python",
   "pygments_lexer": "ipython3",
   "version": "3.13.1"
  }
 },
 "nbformat": 4,
 "nbformat_minor": 5
}
